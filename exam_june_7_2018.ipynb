{
 "cells": [
  {
   "cell_type": "markdown",
   "metadata": {},
   "source": [
    "Before you turn this problem in, make sure everything runs as expected. First, **restart the kernel** (in the menubar, select Kernel$\\rightarrow$Restart) and then **run all cells** (in the menubar, select Cell$\\rightarrow$Run All).\n",
    "\n",
    "Make sure you fill in any place that says `YOUR CODE HERE` or \"YOUR ANSWER HERE\", as well as your name and collaborators below:"
   ]
  },
  {
   "cell_type": "code",
   "execution_count": null,
   "metadata": {},
   "outputs": [],
   "source": [
    "NAME = \"Nic van der Valk, #2015327#\"\n",
    "COLLABORATORS = \"\""
   ]
  },
  {
   "cell_type": "markdown",
   "metadata": {},
   "source": [
    "---"
   ]
  },
  {
   "cell_type": "markdown",
   "metadata": {},
   "source": [
    "Fill in the cell above to provide us with your name and student number, like\n",
    "\n",
    "NAME = \"Adam Smith, #student number#\"\n",
    "\n",
    "where you replace \"#student number#\" with your ... (very good!)\n",
    "\n",
    "and if you are doing this with someone else (not more than one other person):\n",
    "\n",
    "COLLABORATORS = \"Karl Marx, #student number#\""
   ]
  },
  {
   "cell_type": "markdown",
   "metadata": {
    "deletable": false,
    "editable": false,
    "nbgrader": {
     "checksum": "a7ae5c69becf064d614c6c38935eca51",
     "grade": false,
     "grade_id": "cell-895e9a7b94992ec9",
     "locked": true,
     "schema_version": 1,
     "solution": false
    }
   },
   "source": [
    "# exam June 7th, 2018\n"
   ]
  },
  {
   "cell_type": "markdown",
   "metadata": {
    "deletable": false,
    "editable": false,
    "nbgrader": {
     "checksum": "bc48d165f54aa364aa34509649fcdef5",
     "grade": false,
     "grade_id": "cell-540987818af25557",
     "locked": true,
     "schema_version": 1,
     "solution": false
    }
   },
   "source": [
    "\n",
    "In the first cell of the notebook, give us your name and student number in the way indicated above. If you do this notebook with --at max.-- one other student, give her/his name and student number as well under \"COLLABORATORS\".\n",
    "\n",
    "Fill in the notebook (see below for code cells and text cells that you need to fill in).\n",
    "\n",
    "If you look at the menus above (File, Edit, View etc.), there is one called \"Cell\". If you click on this, you can change the \"Cell Type\". Choose \"Code\" when you are typing python or R code. Choose \"Markdown\" when you are typing, well, markdown.\n",
    "\n",
    "When you finish the notebook, make sure that you **save it with the output of your code included**. \n",
    "\n",
    "Then put it on github, e.g. by dragging it onto github (see instructions below). \n",
    "\n",
    "Finally, add a link to your README file with the name of this exam: \"Exam June 7, 2018\".\n",
    "\n"
   ]
  },
  {
   "cell_type": "markdown",
   "metadata": {
    "deletable": false,
    "editable": false,
    "nbgrader": {
     "checksum": "6fad9bed312da1b0097e9c520b18e3fb",
     "grade": false,
     "grade_id": "cell-e1cf88cb799f1f43",
     "locked": true,
     "schema_version": 1,
     "solution": false
    }
   },
   "source": [
    "## price effects of mergers\n",
    "\n",
    "We consider a merger in this notebook. \n",
    "\n",
    "First we calculate the equilibrium with three firms, denoted by 1, 2 and 3. Then firms 2 and 3 merge so that we are left with 2 firms; denoted by 1 and 2.\n",
    "\n",
    "We calculate the effects of the merger on the equilibrium price.\n",
    "\n",
    "We start by importing the usual libraries."
   ]
  },
  {
   "cell_type": "code",
   "execution_count": 48,
   "metadata": {
    "deletable": false,
    "editable": false,
    "nbgrader": {
     "checksum": "7bd770ef54db47c3b6c8d0e31f6baef6",
     "grade": false,
     "grade_id": "cell-b895769bf40e183a",
     "locked": true,
     "schema_version": 1,
     "solution": false
    }
   },
   "outputs": [],
   "source": [
    "import matplotlib.pyplot as plt\n",
    "import pandas as pd\n",
    "import numpy as np\n",
    "from scipy import optimize\n",
    "%matplotlib inline"
   ]
  },
  {
   "cell_type": "markdown",
   "metadata": {},
   "source": [
    "The following code helps to calculate the equilibrium for the case with 3 firms. Note that you have seen similar code during the tutorials to calculate the equilibrium with 2 firms.\n",
    "\n",
    "We assume that before the merger each firm has constant marginal costs equal to 0.3. We assume a simple linear (inverse) demand curve of the form $p=1-Q$ where $p$ denotes price and $Q$ total output on the market. Total output equals the sum of each firm's output: $Q= q_1 + q_2+q_3$."
   ]
  },
  {
   "cell_type": "code",
   "execution_count": 49,
   "metadata": {
    "deletable": false,
    "editable": false,
    "nbgrader": {
     "checksum": "3e30f7ac9d9155ef089b8ca56a0c0436",
     "grade": false,
     "grade_id": "cell-f97a25efed556fd2",
     "locked": true,
     "schema_version": 1,
     "solution": false
    }
   },
   "outputs": [],
   "source": [
    "c0 = 0.3\n",
    "vector_c = [c0]*3\n",
    "\n",
    "def p(Q):\n",
    "    return 1 - Q\n",
    "\n",
    "def costs(q,c):\n",
    "    return c*q\n",
    "\n",
    "def profits(q,Q_other,c):\n",
    "    return p(q+Q_other)*q-costs(q,c)\n",
    "\n",
    "def reaction(Q_other,c):\n",
    "    q1 =  optimize.fminbound(lambda x: -profits(x,Q_other,c),0,1,full_output=1)\n",
    "    return q1[0]\n",
    "\n",
    "def fixed_point_three_firms(vector_q,vector_c):\n",
    "    return [vector_q[0]-reaction(vector_q[1]+vector_q[2],vector_c[0]),\n",
    "            vector_q[1]-reaction(vector_q[0]+vector_q[2],vector_c[1]),\n",
    "            vector_q[2]-reaction(vector_q[0]+vector_q[1],vector_c[2])]\n",
    "\n"
   ]
  },
  {
   "cell_type": "markdown",
   "metadata": {
    "deletable": false,
    "editable": false,
    "nbgrader": {
     "checksum": "f6ea3b2416aca7293a5450c45865f242",
     "grade": false,
     "grade_id": "cell-83284c4090d6de8c",
     "locked": true,
     "schema_version": 1,
     "solution": false
    }
   },
   "source": [
    "#### a) [0.5 points] Show that total equilibrium output equals  0.525. Derive the equilibrium price and Herfindahl index; denote these by `P0` and `H0` resp."
   ]
  },
  {
   "cell_type": "code",
   "execution_count": 50,
   "metadata": {
    "deletable": false,
    "nbgrader": {
     "checksum": "a06d73c35395adb00480733b458cb4a5",
     "grade": true,
     "grade_id": "cell-3b8ee172d9950128",
     "locked": false,
     "points": 0.5,
     "schema_version": 1,
     "solution": true
    }
   },
   "outputs": [
    {
     "name": "stdout",
     "output_type": "stream",
     "text": [
      "0.525\n",
      "0.475\n",
      "0.3333333333333333\n"
     ]
    }
   ],
   "source": [
    "initial_guess = [0,0,0]\n",
    "\n",
    "Qsum = optimize.fsolve(lambda q: fixed_point_three_firms(q,[0.3,0.3,0.3]), initial_guess)\n",
    "\n",
    "Q0 = np.sum(Qsum)\n",
    "print(Q0)\n",
    "\n",
    "P0 = 1 - Q0\n",
    "print(P0)\n",
    "\n",
    "q1 = Qsum[0]\n",
    "q2 = Qsum[1]\n",
    "q3 = Qsum[2]\n",
    "\n",
    "H0 = (q1/Q0)**2 + (q2/Q0)**2 + (q3/Q0)**2\n",
    "\n",
    "print(H0)"
   ]
  },
  {
   "cell_type": "markdown",
   "metadata": {
    "deletable": false,
    "editable": false,
    "nbgrader": {
     "checksum": "87b3b3e0e2d645c280e279312e489dc4",
     "grade": false,
     "grade_id": "cell-4b33762aa4a601fe",
     "locked": true,
     "schema_version": 1,
     "solution": false
    }
   },
   "source": [
    "#### b) [0.5 point] Define a function `fixed_point_two_firms` with the same structure as the function `fixed_point_three_firms` above, except that it derives the equilibrium output levels for a duopoly (two firms). Test this function by showing that each of the two firms produces 0.3333 in case both firms have zero costs."
   ]
  },
  {
   "cell_type": "code",
   "execution_count": 51,
   "metadata": {
    "deletable": false,
    "nbgrader": {
     "checksum": "024a1519155d681b57c85292df535a65",
     "grade": true,
     "grade_id": "cell-5ee215676b91f504",
     "locked": false,
     "points": 0.5,
     "schema_version": 1,
     "solution": true
    }
   },
   "outputs": [
    {
     "data": {
      "text/plain": [
       "array([0.33333333, 0.33333333])"
      ]
     },
     "execution_count": 51,
     "metadata": {},
     "output_type": "execute_result"
    }
   ],
   "source": [
    "def fixed_point_two_firms(q,c):\n",
    "    return [q[0]-reaction(q[1],c[0]),q[1]-reaction(q[0],c[1])]\n",
    "\n",
    "initial_guess = [0,0]\n",
    "\n",
    "optimize.fsolve(lambda q: fixed_point_two_firms(q,[0,0]), initial_guess)"
   ]
  },
  {
   "cell_type": "markdown",
   "metadata": {
    "deletable": false,
    "editable": false,
    "nbgrader": {
     "checksum": "5291fc8716e367572fde17ebe5844d2f",
     "grade": false,
     "grade_id": "cell-c2fada02efd7b197",
     "locked": true,
     "schema_version": 1,
     "solution": false
    }
   },
   "source": [
    "The Dutch competition authority, ACM, is asked to evaluate the effects of a merger between firms 2 and 3. Firms 2 and 3 claim that by merging they can reduce their constant marginal costs. But it is not clear by how much they will reduce their costs.\n",
    "\n",
    "The ACM assumes that the marginal cost level of the merged firm is uniformly distributed between 0 and the current marginal cost level `c0`. The merger will not affect the marginal cost level of firm 1 who does not merge. Firm 1's cost level remains `c0`.\n",
    "\n",
    "The next cell generates a vector of cost levels for the merged firm, denoted `c_after_merger`. Evaluate \"c_after_merger\" in a separate cell if you do not understand the command that defines it.\n",
    "\n",
    "Then it calculates the equilibrium output levels for (the non-merging) firm 1 and (the merged) firm 2.\n",
    "\n",
    "Note that you need to specify `initial_guess`.\n"
   ]
  },
  {
   "cell_type": "code",
   "execution_count": 52,
   "metadata": {
    "deletable": false,
    "editable": false,
    "nbgrader": {
     "checksum": "11299317cd53e31de9900700999b0324",
     "grade": false,
     "grade_id": "cell-ce91ab3e3225c57d",
     "locked": true,
     "schema_version": 1,
     "solution": false
    }
   },
   "outputs": [],
   "source": [
    "c_after_merger = np.random.uniform(0,c0,size = 100)\n",
    "\n",
    "q1_after_merger = [optimize.fsolve(lambda q: fixed_point_two_firms(q,[c0,c]), initial_guess)[0] for c in c_after_merger]\n",
    "q2_after_merger = [optimize.fsolve(lambda q: fixed_point_two_firms(q,[c0,c]), initial_guess)[1] for c in c_after_merger]\n",
    "\n",
    "\n"
   ]
  },
  {
   "cell_type": "markdown",
   "metadata": {
    "deletable": false,
    "editable": false,
    "nbgrader": {
     "checksum": "2b518306d6ff20ee42d0bc3085333095",
     "grade": false,
     "grade_id": "cell-0acc18b4f07a09f4",
     "locked": true,
     "schema_version": 1,
     "solution": false
    }
   },
   "source": [
    "#### c) [0.5 points] Create a dataframe called `df_after_merger` with three columns: `c_merged_firm`, `output_non_merging_firm`, `output_merged_firm` containing resp. the cost level of the merged firm, the output level of firm 1 and the output level of firm 2."
   ]
  },
  {
   "cell_type": "code",
   "execution_count": 53,
   "metadata": {
    "deletable": false,
    "nbgrader": {
     "checksum": "f4fc6a3bdef91fa3f656ccd3290c9f54",
     "grade": true,
     "grade_id": "cell-f3eacda828774f2d",
     "locked": false,
     "points": 0.5,
     "schema_version": 1,
     "solution": true
    }
   },
   "outputs": [
    {
     "data": {
      "text/plain": [
       "<bound method NDFrame.head of     c_merged_firm  output_merged_firm  output_non_merging_firm\n",
       "0        0.224410            0.283726                 0.208137\n",
       "1        0.223827            0.284115                 0.207942\n",
       "2        0.237751            0.274833                 0.212584\n",
       "3        0.141435            0.339043                 0.180478\n",
       "4        0.265068            0.256621                 0.221689\n",
       "5        0.282462            0.245026                 0.227487\n",
       "6        0.037891            0.408073                 0.145964\n",
       "7        0.185388            0.309741                 0.195129\n",
       "8        0.067893            0.388071                 0.155964\n",
       "9        0.197079            0.301947                 0.199026\n",
       "10       0.200578            0.299615                 0.200193\n",
       "11       0.158275            0.327816                 0.186092\n",
       "12       0.063372            0.391085                 0.154457\n",
       "13       0.079364            0.380424                 0.159788\n",
       "14       0.059018            0.393988                 0.153006\n",
       "15       0.288704            0.240864                 0.229568\n",
       "16       0.268558            0.254295                 0.222853\n",
       "17       0.023975            0.417350                 0.141325\n",
       "18       0.229448            0.280368                 0.209816\n",
       "19       0.168261            0.321159                 0.189420\n",
       "20       0.194604            0.303598                 0.198201\n",
       "21       0.289338            0.240441                 0.229779\n",
       "22       0.130814            0.346124                 0.176938\n",
       "23       0.236256            0.275829                 0.212085\n",
       "24       0.190819            0.306121                 0.196940\n",
       "25       0.293655            0.237563                 0.231218\n",
       "26       0.113541            0.357639                 0.171180\n",
       "27       0.028913            0.414058                 0.142971\n",
       "28       0.252090            0.265273                 0.217363\n",
       "29       0.242727            0.271515                 0.214242\n",
       "..            ...                 ...                      ...\n",
       "70       0.132781            0.344813                 0.177594\n",
       "71       0.113983            0.357345                 0.171328\n",
       "72       0.128168            0.347888                 0.176056\n",
       "73       0.163090            0.324606                 0.187697\n",
       "74       0.031600            0.412266                 0.143867\n",
       "75       0.283455            0.244364                 0.227818\n",
       "76       0.022305            0.418463                 0.140768\n",
       "77       0.022409            0.418394                 0.140803\n",
       "78       0.016825            0.422117                 0.138942\n",
       "79       0.139735            0.340176                 0.179912\n",
       "80       0.089183            0.373878                 0.163061\n",
       "81       0.230481            0.279679                 0.210160\n",
       "82       0.214722            0.290185                 0.204907\n",
       "83       0.160304            0.326464                 0.186768\n",
       "84       0.034220            0.410520                 0.144740\n",
       "85       0.035777            0.409482                 0.145259\n",
       "86       0.019548            0.420302                 0.139849\n",
       "87       0.039258            0.407162                 0.146419\n",
       "88       0.180961            0.312693                 0.193654\n",
       "89       0.140616            0.339590                 0.180205\n",
       "90       0.269573            0.253618                 0.223191\n",
       "91       0.228814            0.280790                 0.209605\n",
       "92       0.241721            0.272186                 0.213907\n",
       "93       0.087116            0.375256                 0.162372\n",
       "94       0.280865            0.246090                 0.226955\n",
       "95       0.075460            0.383027                 0.158487\n",
       "96       0.071958            0.385361                 0.157319\n",
       "97       0.134999            0.343334                 0.178333\n",
       "98       0.263617            0.257589                 0.221206\n",
       "99       0.218796            0.287470                 0.206265\n",
       "\n",
       "[100 rows x 3 columns]>"
      ]
     },
     "execution_count": 53,
     "metadata": {},
     "output_type": "execute_result"
    }
   ],
   "source": [
    "initial_guess = [0,0]\n",
    "\n",
    "d = {'c_merged_firm': c_after_merger, 'output_non_merging_firm': q1_after_merger, 'output_merged_firm': q2_after_merger}\n",
    "\n",
    "df_after_merger = pd.DataFrame(data=d)\n",
    "df_after_merger.head"
   ]
  },
  {
   "cell_type": "markdown",
   "metadata": {
    "deletable": false,
    "editable": false,
    "nbgrader": {
     "checksum": "a5bf4171960844da9c57375d83b6eedf",
     "grade": false,
     "grade_id": "cell-7ad058be42e19df8",
     "locked": true,
     "schema_version": 1,
     "solution": false
    }
   },
   "source": [
    "#### d) [0.5 points] Add three columns to the dataframe with resp. total equilibrium output on the market, `Q`, equilibrium price, `P` and the Herfindahl index, `H`."
   ]
  },
  {
   "cell_type": "code",
   "execution_count": 54,
   "metadata": {
    "deletable": false,
    "nbgrader": {
     "checksum": "ab6179623b39a6ae634abea45326e4ab",
     "grade": true,
     "grade_id": "cell-9c39b11747803ca1",
     "locked": false,
     "points": 0.5,
     "schema_version": 1,
     "solution": true
    }
   },
   "outputs": [
    {
     "name": "stdout",
     "output_type": "stream",
     "text": [
      "    c_merged_firm  output_merged_firm  output_non_merging_firm         Q  \\\n",
      "0        0.224410            0.283726                 0.208137  0.491863   \n",
      "1        0.223827            0.284115                 0.207942  0.492058   \n",
      "2        0.237751            0.274833                 0.212584  0.487416   \n",
      "3        0.141435            0.339043                 0.180478  0.519522   \n",
      "4        0.265068            0.256621                 0.221689  0.478311   \n",
      "5        0.282462            0.245026                 0.227487  0.472513   \n",
      "6        0.037891            0.408073                 0.145964  0.554036   \n",
      "7        0.185388            0.309741                 0.195129  0.504871   \n",
      "8        0.067893            0.388071                 0.155964  0.544036   \n",
      "9        0.197079            0.301947                 0.199026  0.500974   \n",
      "10       0.200578            0.299615                 0.200193  0.499807   \n",
      "11       0.158275            0.327816                 0.186092  0.513908   \n",
      "12       0.063372            0.391085                 0.154457  0.545543   \n",
      "13       0.079364            0.380424                 0.159788  0.540212   \n",
      "14       0.059018            0.393988                 0.153006  0.546994   \n",
      "15       0.288704            0.240864                 0.229568  0.470432   \n",
      "16       0.268558            0.254295                 0.222853  0.477147   \n",
      "17       0.023975            0.417350                 0.141325  0.558675   \n",
      "18       0.229448            0.280368                 0.209816  0.490184   \n",
      "19       0.168261            0.321159                 0.189420  0.510580   \n",
      "20       0.194604            0.303598                 0.198201  0.501799   \n",
      "21       0.289338            0.240441                 0.229779  0.470221   \n",
      "22       0.130814            0.346124                 0.176938  0.523062   \n",
      "23       0.236256            0.275829                 0.212085  0.487915   \n",
      "24       0.190819            0.306121                 0.196940  0.503060   \n",
      "25       0.293655            0.237563                 0.231218  0.468782   \n",
      "26       0.113541            0.357639                 0.171180  0.528820   \n",
      "27       0.028913            0.414058                 0.142971  0.557029   \n",
      "28       0.252090            0.265273                 0.217363  0.482637   \n",
      "29       0.242727            0.271515                 0.214242  0.485758   \n",
      "..            ...                 ...                      ...       ...   \n",
      "70       0.132781            0.344813                 0.177594  0.522406   \n",
      "71       0.113983            0.357345                 0.171328  0.528672   \n",
      "72       0.128168            0.347888                 0.176056  0.523944   \n",
      "73       0.163090            0.324606                 0.187697  0.512303   \n",
      "74       0.031600            0.412266                 0.143867  0.556133   \n",
      "75       0.283455            0.244364                 0.227818  0.472182   \n",
      "76       0.022305            0.418463                 0.140768  0.559232   \n",
      "77       0.022409            0.418394                 0.140803  0.559197   \n",
      "78       0.016825            0.422117                 0.138942  0.561058   \n",
      "79       0.139735            0.340176                 0.179912  0.520088   \n",
      "80       0.089183            0.373878                 0.163061  0.536939   \n",
      "81       0.230481            0.279679                 0.210160  0.489840   \n",
      "82       0.214722            0.290185                 0.204907  0.495093   \n",
      "83       0.160304            0.326464                 0.186768  0.513232   \n",
      "84       0.034220            0.410520                 0.144740  0.555260   \n",
      "85       0.035777            0.409482                 0.145259  0.554741   \n",
      "86       0.019548            0.420302                 0.139849  0.560151   \n",
      "87       0.039258            0.407162                 0.146419  0.553581   \n",
      "88       0.180961            0.312693                 0.193654  0.506346   \n",
      "89       0.140616            0.339590                 0.180205  0.519795   \n",
      "90       0.269573            0.253618                 0.223191  0.476809   \n",
      "91       0.228814            0.280790                 0.209605  0.490395   \n",
      "92       0.241721            0.272186                 0.213907  0.486093   \n",
      "93       0.087116            0.375256                 0.162372  0.537628   \n",
      "94       0.280865            0.246090                 0.226955  0.473045   \n",
      "95       0.075460            0.383027                 0.158487  0.541513   \n",
      "96       0.071958            0.385361                 0.157319  0.542681   \n",
      "97       0.134999            0.343334                 0.178333  0.521667   \n",
      "98       0.263617            0.257589                 0.221206  0.478794   \n",
      "99       0.218796            0.287470                 0.206265  0.493735   \n",
      "\n",
      "           P         H  \n",
      "0   0.508137  0.511809  \n",
      "1   0.507942  0.511982  \n",
      "2   0.512584  0.508155  \n",
      "3   0.480478  0.546578  \n",
      "4   0.521689  0.502667  \n",
      "5   0.527487  0.500689  \n",
      "6   0.445964  0.611907  \n",
      "7   0.495129  0.525767  \n",
      "8   0.455964  0.591011  \n",
      "9   0.499026  0.521103  \n",
      "10  0.500193  0.519785  \n",
      "11  0.486092  0.538027  \n",
      "12  0.454457  0.594069  \n",
      "13  0.459788  0.583406  \n",
      "14  0.453006  0.597045  \n",
      "15  0.529568  0.500288  \n",
      "16  0.522853  0.502171  \n",
      "17  0.441325  0.622053  \n",
      "18  0.509816  0.510358  \n",
      "19  0.489420  0.533287  \n",
      "20  0.498201  0.522058  \n",
      "21  0.529779  0.500257  \n",
      "22  0.476938  0.552311  \n",
      "23  0.512085  0.508534  \n",
      "24  0.496940  0.523552  \n",
      "25  0.531218  0.500092  \n",
      "26  0.471180  0.562161  \n",
      "27  0.442971  0.618422  \n",
      "28  0.517363  0.504927  \n",
      "29  0.514242  0.506951  \n",
      "..       ...       ...  \n",
      "70  0.477594  0.551230  \n",
      "71  0.471328  0.561902  \n",
      "72  0.476056  0.553778  \n",
      "73  0.487697  0.535709  \n",
      "74  0.443867  0.616460  \n",
      "75  0.527818  0.500614  \n",
      "76  0.440768  0.623289  \n",
      "77  0.440803  0.623212  \n",
      "78  0.438942  0.627369  \n",
      "79  0.479912  0.547478  \n",
      "80  0.463061  0.577078  \n",
      "81  0.510160  0.510071  \n",
      "82  0.504907  0.514834  \n",
      "83  0.486768  0.537043  \n",
      "84  0.444740  0.614557  \n",
      "85  0.445259  0.613431  \n",
      "86  0.439849  0.625337  \n",
      "87  0.446419  0.610925  \n",
      "88  0.493654  0.527635  \n",
      "89  0.480205  0.547011  \n",
      "90  0.523191  0.502036  \n",
      "91  0.509605  0.510536  \n",
      "92  0.513907  0.507187  \n",
      "93  0.462372  0.578396  \n",
      "94  0.526955  0.500818  \n",
      "95  0.458487  0.585968  \n",
      "96  0.457319  0.588290  \n",
      "97  0.478333  0.550022  \n",
      "98  0.521206  0.502887  \n",
      "99  0.506265  0.513525  \n",
      "\n",
      "[100 rows x 6 columns]\n"
     ]
    }
   ],
   "source": [
    "df_after_merger['Q']= df_after_merger['output_non_merging_firm']+df_after_merger['output_merged_firm']\n",
    "df_after_merger['P']= 1-df_after_merger['Q']\n",
    "df_after_merger['H']= (df_after_merger['output_merged_firm']/df_after_merger['Q'])**2 + (df_after_merger['output_non_merging_firm']/df_after_merger['Q'])**2\n",
    "\n",
    "print(df_after_merger)"
   ]
  },
  {
   "cell_type": "markdown",
   "metadata": {},
   "source": [
    "#### e) [0.5 points] Make a histogram of the equilibrium price `P` after the merger. Also indicate in the histogram the equilibrium price before the merger `P0`. Label the horizontal axis with $P$.\n",
    "\n",
    "[hint: you may want to use matplotlib's `hist`, `vlines` and `legend` to make this graph (e.g use google to find these functions); but feel free to use something else]"
   ]
  },
  {
   "cell_type": "code",
   "execution_count": 55,
   "metadata": {
    "deletable": false,
    "nbgrader": {
     "checksum": "b103cd98545261b20f937f4b9db67f68",
     "grade": true,
     "grade_id": "cell-f9193bf8e71f1a9a",
     "locked": false,
     "points": 0.5,
     "schema_version": 1,
     "solution": true
    }
   },
   "outputs": [
    {
     "data": {
      "image/png": "[encoded data removed]",
      "text/plain": [
       "<matplotlib.figure.Figure at 0x151608fac8>"
      ]
     },
     "metadata": {},
     "output_type": "display_data"
    }
   ],
   "source": [
    "Equilibrium_price = df_after_merger['P']\n",
    "plt.hist(Equilibrium_price, facecolor='pink', alpha=8, edgecolor='black')\n",
    "plt.xlabel('$P$')\n",
    "plt.axvline(0.475, color='k', linestyle='dashed', linewidth=1)\n",
    "\n",
    "plt.show()"
   ]
  },
  {
   "cell_type": "markdown",
   "metadata": {},
   "source": [
    "#### f) [0.5 points] Explain why sometimes the equilibrium price after the merger exceeds the equilibrium price before the merger and sometimes it is lower than the pre-merger price. [hint: there is a trade off between two effects, depending on which effect dominates, equilibrium price increases or decreases after the merger]"
   ]
  },
  {
   "cell_type": "markdown",
   "metadata": {
    "deletable": false,
    "nbgrader": {
     "checksum": "dd9fc721b7cf7f66587e93cbfb758034",
     "grade": true,
     "grade_id": "cell-7a1f367cd2854156",
     "locked": false,
     "points": 0.5,
     "schema_version": 1,
     "solution": true
    }
   },
   "source": [
    "the price is depending on the output, wich is depending on the output of each firm after the merger. the output of each firm is depending on the cost of both firms. if the firms merge and the costs are lower the output will be higher and therefore the price will be lower. if the costs are higher then it can work the other way around.\n"
   ]
  },
  {
   "cell_type": "markdown",
   "metadata": {
    "deletable": false,
    "editable": false,
    "nbgrader": {
     "checksum": "e1e41dbf14c605bf91cdc78f70eada99",
     "grade": false,
     "grade_id": "cell-06ed6044f8938a45",
     "locked": true,
     "schema_version": 1,
     "solution": false
    }
   },
   "source": [
    "#### g) [0.5 points] Make a graph with the Herfindahl index on the horizontal axis and the equilibrium price on the vertical axis. This is straightforward for $(H,P)$ after the merger as both values are in the dataframe. Add in another color, the pre-merger combination `(H0,P0)` that we calculated above."
   ]
  },
  {
   "cell_type": "code",
   "execution_count": 56,
   "metadata": {
    "deletable": false,
    "nbgrader": {
     "checksum": "51cfaacbaf533e85d9794bc74712afd5",
     "grade": true,
     "grade_id": "cell-d647464d04870b73",
     "locked": false,
     "points": 0.5,
     "schema_version": 1,
     "solution": true
    }
   },
   "outputs": [
    {
     "data": {
      "image/png": "[encoded data removed]",
      "text/plain": [
       "<matplotlib.figure.Figure at 0x15104fc908>"
      ]
     },
     "metadata": {},
     "output_type": "display_data"
    }
   ],
   "source": [
    "plt.scatter(df_after_merger['H'],df_after_merger['P'], color='pink')\n",
    "plt.axvline(0.475, color='k', linestyle='dashed', linewidth=1)\n",
    "plt.axhline((1/3), color='k', linestyle='dashed', linewidth=1)\n",
    "plt.xlabel('$H$')\n",
    "plt.ylabel('$P$')\n",
    "plt.show()"
   ]
  },
  {
   "cell_type": "markdown",
   "metadata": {
    "deletable": false,
    "editable": false,
    "nbgrader": {
     "checksum": "11b6609131b1c25886f2c6cafe0f7a59",
     "grade": false,
     "grade_id": "cell-5c5e5776a7c135a2",
     "locked": true,
     "schema_version": 1,
     "solution": false
    }
   },
   "source": [
    "#### h) [0.5 points] Use the graph under g) to discuss the relation between the Herfindahl index and the equilibrium price. To illustrate, some people think that lower values of the Herfindahl index are associated with more competitive outcome. Would you agree with this?"
   ]
  },
  {
   "cell_type": "markdown",
   "metadata": {
    "collapsed": true,
    "deletable": false,
    "nbgrader": {
     "checksum": "3d396887dde3b00420c623b9f4ea8ed2",
     "grade": true,
     "grade_id": "cell-cbd89d483b23a953",
     "locked": false,
     "points": 0.5,
     "schema_version": 1,
     "solution": true
    }
   },
   "source": [
    "if the herfindahl index is higher, the equilibrium price is lower. You can say that low prices are illustrated with high competitiveness so i do not agree\n"
   ]
  },
  {
   "cell_type": "markdown",
   "metadata": {},
   "source": [
    "## Github\n",
    "\n",
    "After you have finished, we need to upload this notebook on github. Make sure that you upload the file on the github page of each collaborator."
   ]
  },
  {
   "cell_type": "markdown",
   "metadata": {},
   "source": [
    "Instructions on how to upload this on github can be found [on this page](http://janboone.github.io/programming-for-economists/github.html). This page has two screencasts: one shows how to drag the notebook onto your github page, the other shows how you can use the command line to upload your notebook.\n"
   ]
  },
  {
   "cell_type": "markdown",
   "metadata": {},
   "source": [
    "Remember to update the README file in your repository to include a link to this notebook on github.\n",
    "\n",
    "\n",
    "The links that you should post start with “github.com/” and are NOT of the form “http://localhost”. Make sure you test your links after uploading."
   ]
  },
  {
   "cell_type": "code",
   "execution_count": null,
   "metadata": {
    "collapsed": true
   },
   "outputs": [],
   "source": []
  }
 ],
 "metadata": {
  "anaconda-cloud": {},
  "kernelspec": {
   "display_name": "Python 3",
   "language": "python",
   "name": "python3"
  },
  "language_info": {
   "codemirror_mode": {
    "name": "ipython",
    "version": 3
   },
   "file_extension": ".py",
   "mimetype": "text/x-python",
   "name": "python",
   "nbconvert_exporter": "python",
   "pygments_lexer": "ipython3",
   "version": "3.6.4"
  }
 },
 "nbformat": 4,
 "nbformat_minor": 1
}
