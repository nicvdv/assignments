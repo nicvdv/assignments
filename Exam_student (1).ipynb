{
 "cells": [
  {
   "cell_type": "markdown",
   "metadata": {},
   "source": [
    "# Exam R\n",
    "Mark Klik & Misja Mikkers\n",
    "\n",
    "# Introduction\n",
    "\n",
    "The exam consists of 2 parts. In the first part, you have to run a regression, test if the assumptions of a linear regression model are met, and make 2 graphs.\n",
    "\n",
    "In the second part of the exam, you will have to make a map of Catholic and Protestant schools in the Netherlands.\n",
    "\n",
    "# Packages\n"
   ]
  },
  {
   "cell_type": "code",
   "execution_count": 19,
   "metadata": {},
   "outputs": [],
   "source": [
    "library(tidyverse)\n",
    "library(gvlma)"
   ]
  },
  {
   "cell_type": "code",
   "execution_count": null,
   "metadata": {},
   "outputs": [],
   "source": []
  },
  {
   "cell_type": "markdown",
   "metadata": {},
   "source": [
    "# Assignment 1\n",
    "\n",
    "\n",
    "## Data\n",
    "\n",
    "The data are given:\n"
   ]
  },
  {
   "cell_type": "code",
   "execution_count": 20,
   "metadata": {},
   "outputs": [
    {
     "data": {
      "text/html": [
       "<table>\n",
       "<thead><tr><th scope=col>V1</th><th scope=col>epsilon</th><th scope=col>response</th><th scope=col>group</th></tr></thead>\n",
       "<tbody>\n",
       "\t<tr><td>3.588198  </td><td>-3.3733866</td><td> -7.549782</td><td>1         </td></tr>\n",
       "\t<tr><td>8.094746  </td><td> 1.6755741</td><td>-11.513918</td><td>2         </td></tr>\n",
       "\t<tr><td>4.680792  </td><td> 0.3067462</td><td> -6.054838</td><td>1         </td></tr>\n",
       "\t<tr><td>8.947157  </td><td>-2.2762739</td><td>-17.170587</td><td>2         </td></tr>\n",
       "\t<tr><td>9.464206  </td><td> 2.5076298</td><td>-13.420781</td><td>2         </td></tr>\n",
       "\t<tr><td>1.410008  </td><td> 0.8529284</td><td>  1.032911</td><td>1         </td></tr>\n",
       "</tbody>\n",
       "</table>\n"
      ],
      "text/latex": [
       "\\begin{tabular}{r|llll}\n",
       " V1 & epsilon & response & group\\\\\n",
       "\\hline\n",
       "\t 3.588198   & -3.3733866 &  -7.549782 & 1         \\\\\n",
       "\t 8.094746   &  1.6755741 & -11.513918 & 2         \\\\\n",
       "\t 4.680792   &  0.3067462 &  -6.054838 & 1         \\\\\n",
       "\t 8.947157   & -2.2762739 & -17.170587 & 2         \\\\\n",
       "\t 9.464206   &  2.5076298 & -13.420781 & 2         \\\\\n",
       "\t 1.410008   &  0.8529284 &   1.032911 & 1         \\\\\n",
       "\\end{tabular}\n"
      ],
      "text/markdown": [
       "\n",
       "V1 | epsilon | response | group | \n",
       "|---|---|---|---|---|---|\n",
       "| 3.588198   | -3.3733866 |  -7.549782 | 1          | \n",
       "| 8.094746   |  1.6755741 | -11.513918 | 2          | \n",
       "| 4.680792   |  0.3067462 |  -6.054838 | 1          | \n",
       "| 8.947157   | -2.2762739 | -17.170587 | 2          | \n",
       "| 9.464206   |  2.5076298 | -13.420781 | 2          | \n",
       "| 1.410008   |  0.8529284 |   1.032911 | 1          | \n",
       "\n",
       "\n"
      ],
      "text/plain": [
       "  V1       epsilon    response   group\n",
       "1 3.588198 -3.3733866  -7.549782 1    \n",
       "2 8.094746  1.6755741 -11.513918 2    \n",
       "3 4.680792  0.3067462  -6.054838 1    \n",
       "4 8.947157 -2.2762739 -17.170587 2    \n",
       "5 9.464206  2.5076298 -13.420781 2    \n",
       "6 1.410008  0.8529284   1.032911 1    "
      ]
     },
     "metadata": {},
     "output_type": "display_data"
    }
   ],
   "source": [
    "set.seed(123)\n",
    "df1 <- as.data.frame(matrix(runif(1*50, min = 1, max = 10), ncol = 1)) %>%\n",
    "    mutate(epsilon = rnorm(50, mean = 0, sd = 2)) %>%\n",
    "    mutate(response = 3 - 2* V1  + epsilon) %>%\n",
    "    mutate(group = ifelse(V1 <= 5, 1,2))\n",
    "\n",
    "head(df1)"
   ]
  },
  {
   "cell_type": "markdown",
   "metadata": {},
   "source": [
    "## Asignment 1a\n",
    "\n",
    "The first assigment is to make boxplot using ggplot with group on the x-axis and V1 on the y-axis."
   ]
  },
  {
   "cell_type": "code",
   "execution_count": 21,
   "metadata": {},
   "outputs": [
    {
     "data": {},
     "metadata": {},
     "output_type": "display_data"
    },
    {
     "data": {
      "image/png": "[encoded data removed]",
      "text/plain": [
       "plot without title"
      ]
     },
     "metadata": {},
     "output_type": "display_data"
    }
   ],
   "source": [
    "ggplot (df1, aes(x = factor(group), y = V1)) + \n",
    "    geom_boxplot() +\n",
    "    labs(x=\"Group\", y=\"V1\")"
   ]
  },
  {
   "cell_type": "markdown",
   "metadata": {},
   "source": [
    "## Assignment 1b\n",
    "\n",
    "Run a regression with response variable as a function of V1.\n",
    "Show the summary statistics of the regression.\n"
   ]
  },
  {
   "cell_type": "code",
   "execution_count": 22,
   "metadata": {},
   "outputs": [
    {
     "data": {
      "text/plain": [
       "\n",
       "Call:\n",
       "lm(formula = response ~ V1, data = df1)\n",
       "\n",
       "Residuals:\n",
       "    Min      1Q  Median      3Q     Max \n",
       "-4.5116 -1.1157 -0.1313  1.0985  4.3723 \n",
       "\n",
       "Coefficients:\n",
       "            Estimate Std. Error t value Pr(>|t|)    \n",
       "(Intercept)   2.6305     0.6347   4.145 0.000138 ***\n",
       "V1           -1.9152     0.1014 -18.880  < 2e-16 ***\n",
       "---\n",
       "Signif. codes:  0 '***' 0.001 '**' 0.01 '*' 0.05 '.' 0.1 ' ' 1\n",
       "\n",
       "Residual standard error: 1.881 on 48 degrees of freedom\n",
       "Multiple R-squared:  0.8813,\tAdjusted R-squared:  0.8788 \n",
       "F-statistic: 356.4 on 1 and 48 DF,  p-value: < 2.2e-16\n"
      ]
     },
     "metadata": {},
     "output_type": "display_data"
    }
   ],
   "source": [
    "reg1 <- lm(data = df1, response ~ V1)\n",
    "summary(reg1)"
   ]
  },
  {
   "cell_type": "markdown",
   "metadata": {},
   "source": [
    "check if the assumptions of linear regression are met with the `gvlma()` function."
   ]
  },
  {
   "cell_type": "code",
   "execution_count": 23,
   "metadata": {},
   "outputs": [
    {
     "data": {
      "text/plain": [
       "\n",
       "Call:\n",
       "lm(formula = response ~ V1, data = df1)\n",
       "\n",
       "Coefficients:\n",
       "(Intercept)           V1  \n",
       "      2.630       -1.915  \n",
       "\n",
       "\n",
       "ASSESSMENT OF THE LINEAR MODEL ASSUMPTIONS\n",
       "USING THE GLOBAL TEST ON 4 DEGREES-OF-FREEDOM:\n",
       "Level of Significance =  0.05 \n",
       "\n",
       "Call:\n",
       " gvlma(x = reg1) \n",
       "\n",
       "                      Value p-value                Decision\n",
       "Global Stat        0.654319  0.9568 Assumptions acceptable.\n",
       "Skewness           0.002398  0.9609 Assumptions acceptable.\n",
       "Kurtosis           0.007200  0.9324 Assumptions acceptable.\n",
       "Link Function      0.005852  0.9390 Assumptions acceptable.\n",
       "Heteroscedasticity 0.638869  0.4241 Assumptions acceptable."
      ]
     },
     "metadata": {},
     "output_type": "display_data"
    }
   ],
   "source": [
    "gvlma(reg1)"
   ]
  },
  {
   "cell_type": "markdown",
   "metadata": {},
   "source": [
    "## Assignment 1c\n",
    "\n",
    "Make a scatterplot with: \n",
    "* V1 on the x-axis and the response on the y-axis\n",
    "* Include the regression line in red with confidence interval \n",
    "* In a classic theme\n",
    "* The x-axis should be labeled \"Predictor\", the y-axis should be labeled (\"Response\")\n",
    "\n"
   ]
  },
  {
   "cell_type": "code",
   "execution_count": 24,
   "metadata": {},
   "outputs": [
    {
     "data": {},
     "metadata": {},
     "output_type": "display_data"
    },
    {
     "data": {
      "image/png": "[encoded data removed]",
      "text/plain": [
       "plot without title"
      ]
     },
     "metadata": {},
     "output_type": "display_data"
    }
   ],
   "source": [
    "ggplot(data = df1, aes(x = V1, y = response)) +\n",
    "    geom_point() +\n",
    "    geom_smooth(method = lm, col = 'red') +\n",
    "    labs(x = 'Predictor', y = 'Response') +\n",
    "    theme_classic()"
   ]
  },
  {
   "cell_type": "markdown",
   "metadata": {},
   "source": [
    "# Assigment 2\n",
    "\n",
    "# Packages"
   ]
  },
  {
   "cell_type": "code",
   "execution_count": 25,
   "metadata": {},
   "outputs": [],
   "source": [
    "library(thematicmaps)\n",
    "library(tidyverse)"
   ]
  },
  {
   "cell_type": "markdown",
   "metadata": {},
   "source": [
    "## Assignment 2a\n",
    "\n",
    "First you have to read in the file \"nld_municipal_map.csv\".\n",
    "Hint: Look at the notebook of week 6 about maps."
   ]
  },
  {
   "cell_type": "code",
   "execution_count": 26,
   "metadata": {},
   "outputs": [
    {
     "name": "stderr",
     "output_type": "stream",
     "text": [
      "Warning message in file(file, \"rt\"):\n",
      "\"cannot open file '../Sourcedata/nld_municipal_map.csv': No such file or directory\""
     ]
    },
    {
     "ename": "ERROR",
     "evalue": "Error in file(file, \"rt\"): cannot open the connection\n",
     "output_type": "error",
     "traceback": [
      "Error in file(file, \"rt\"): cannot open the connection\nTraceback:\n",
      "1. read.csv2(\"../Sourcedata/nld_municipal_map.csv\", stringsAsFactors = FALSE, \n .     dec = \".\")",
      "2. read.table(file = file, header = header, sep = sep, quote = quote, \n .     dec = dec, fill = fill, comment.char = comment.char, ...)",
      "3. file(file, \"rt\")"
     ]
    }
   ],
   "source": [
    "map_municipal <- read.csv2(\"../Sourcedata/nld_municipal_map.csv\", stringsAsFactors = FALSE, dec = \".\")\n"
   ]
  },
  {
   "cell_type": "markdown",
   "metadata": {},
   "source": [
    "if i didnt get an error i think this should be done at 2b and 2c and 2di"
   ]
  },
  {
   "cell_type": "markdown",
   "metadata": {},
   "source": [
    "## Assignment 2b\n",
    "\n",
    "Now you can make an empty map of the Netherlands."
   ]
  },
  {
   "cell_type": "code",
   "execution_count": 13,
   "metadata": {},
   "outputs": [
    {
     "ename": "ERROR",
     "evalue": "Error in is.data.frame(x): object 'map_municipal' not found\n",
     "output_type": "error",
     "traceback": [
      "Error in is.data.frame(x): object 'map_municipal' not found\nTraceback:\n",
      "1. AddMapLayer(MapPlot(), map_municipal)",
      "2. colnames(mapData)",
      "3. is.data.frame(x)"
     ]
    }
   ],
   "source": [
    "AddMapLayer(MapPlot(), map_municipal)"
   ]
  },
  {
   "cell_type": "markdown",
   "metadata": {},
   "source": [
    "## Assignment 2c\n",
    "\n",
    "Read in the pc4 locations (nld_pc4_locations.csv).\n",
    "\n",
    "Hint: Don't forget the X and Y should be numeric variables!"
   ]
  },
  {
   "cell_type": "code",
   "execution_count": 27,
   "metadata": {},
   "outputs": [
    {
     "name": "stderr",
     "output_type": "stream",
     "text": [
      "Warning message in file(file, \"rt\"):\n",
      "\"cannot open file '../Sourcedata/nld_pc4_locations.csv': No such file or directory\""
     ]
    },
    {
     "ename": "ERROR",
     "evalue": "Error in file(file, \"rt\"): cannot open the connection\n",
     "output_type": "error",
     "traceback": [
      "Error in file(file, \"rt\"): cannot open the connection\nTraceback:\n",
      "1. read.csv2(\"../Sourcedata/nld_pc4_locations.csv\") %>% mutate(X = as.numeric(as.character(X))) %>% \n .     mutate(Y = as.numeric(as.character(Y)))",
      "2. eval(lhs, parent, parent)",
      "3. eval(expr, envir, enclos)",
      "4. read.csv2(\"../Sourcedata/nld_pc4_locations.csv\")",
      "5. read.table(file = file, header = header, sep = sep, quote = quote, \n .     dec = dec, fill = fill, comment.char = comment.char, ...)",
      "6. file(file, \"rt\")"
     ]
    }
   ],
   "source": [
    "pc4_locations <- read.csv2(\"../Sourcedata/nld_pc4_locations.csv\")%>%\n",
    "  mutate(X = as.numeric(as.character(X))) %>%\n",
    "   mutate(Y = as.numeric(as.character(Y)))\n",
    "\n",
    "str(pc4_locations)"
   ]
  },
  {
   "cell_type": "markdown",
   "metadata": {},
   "source": [
    "## Assignment 2d\n",
    "\n",
    "### 2di\n",
    "\n",
    "Read in the school data\n"
   ]
  },
  {
   "cell_type": "code",
   "execution_count": 15,
   "metadata": {},
   "outputs": [
    {
     "name": "stderr",
     "output_type": "stream",
     "text": [
      "Warning message in file(file, \"rt\"):\n",
      "\"cannot open file '../Sourcedata/schools.csv': No such file or directory\""
     ]
    },
    {
     "ename": "ERROR",
     "evalue": "Error in file(file, \"rt\"): cannot open the connection\n",
     "output_type": "error",
     "traceback": [
      "Error in file(file, \"rt\"): cannot open the connection\nTraceback:\n",
      "1. read.csv(\"../Sourcedata/schools.csv\", sep = \";\")",
      "2. read.table(file = file, header = header, sep = sep, quote = quote, \n .     dec = dec, fill = fill, comment.char = comment.char, ...)",
      "3. file(file, \"rt\")"
     ]
    }
   ],
   "source": [
    "schools <- read.csv(\"../Sourcedata/schools.csv\", sep = \";\")\n",
    "\n",
    "head(schools)"
   ]
  },
  {
   "cell_type": "markdown",
   "metadata": {},
   "source": [
    "### 2dii\n",
    "\n",
    "First, create a new dataframe schools1, which is equal to schools.\n",
    "\n",
    "As you see POSTCODE has a structure of (1234 AB). You should create a new variable PC4 that is equal to the first 4 numbers in POSTCODE\n",
    "\n",
    "Hint: Use the function `substr()`\n",
    "\n",
    "Then select the variables PC4 and DENOMINATIE"
   ]
  },
  {
   "cell_type": "code",
   "execution_count": null,
   "metadata": {},
   "outputs": [],
   "source": [
    " "
   ]
  },
  {
   "cell_type": "markdown",
   "metadata": {},
   "source": [
    "### 2diii\n",
    "\n",
    "Create the dataframe school_loc as a join from pc4_locations and school1 that combines the columns from both data frames, but only keeps rows where the value in the pc4_locations column matches in both data frames.\n",
    "And then select the observations with DENOMINATIE is equal to \"Rooms-Katholiek\" or \"Protestants-Christelijk\""
   ]
  },
  {
   "cell_type": "code",
   "execution_count": null,
   "metadata": {},
   "outputs": [],
   "source": []
  },
  {
   "cell_type": "markdown",
   "metadata": {},
   "source": [
    "## Assignment 2e\n",
    "\n",
    "Create a map of Catholic and Protestant schools in the Netherlands\n"
   ]
  },
  {
   "cell_type": "markdown",
   "metadata": {},
   "source": [
    "if i were able to create 'school_loc' in 2diii and i didnt get the error i think this is how it should be done"
   ]
  },
  {
   "cell_type": "code",
   "execution_count": 18,
   "metadata": {},
   "outputs": [
    {
     "ename": "ERROR",
     "evalue": "Error in is.data.frame(x): object 'map_municipal' not found\n",
     "output_type": "error",
     "traceback": [
      "Error in is.data.frame(x): object 'map_municipal' not found\nTraceback:\n",
      "1. AddMapLayer(MapPlot(), map_municipal) %>% AddPointsLayer(school_loc2)",
      "2. eval(lhs, parent, parent)",
      "3. eval(expr, envir, enclos)",
      "4. AddMapLayer(MapPlot(), map_municipal)",
      "5. colnames(mapData)",
      "6. is.data.frame(x)"
     ]
    }
   ],
   "source": [
    "AddMapLayer(MapPlot(), map_municipal) %>%\n",
    "AddPointsLayer(school_loc2) "
   ]
  },
  {
   "cell_type": "markdown",
   "metadata": {},
   "source": [
    "End of notebook"
   ]
  }
 ],
 "metadata": {
  "anaconda-cloud": {},
  "kernelspec": {
   "display_name": "R",
   "language": "R",
   "name": "ir"
  },
  "language_info": {
   "codemirror_mode": "r",
   "file_extension": ".r",
   "mimetype": "text/x-r-source",
   "name": "R",
   "pygments_lexer": "r",
   "version": "3.3.3"
  }
 },
 "nbformat": 4,
 "nbformat_minor": 1
}
